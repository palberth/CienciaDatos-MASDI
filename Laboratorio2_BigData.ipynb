{
  "nbformat": 4,
  "nbformat_minor": 0,
  "metadata": {
    "colab": {
      "provenance": [],
      "authorship_tag": "ABX9TyNEnjmTnfpb5k9IFUQGHd/7",
      "include_colab_link": true
    },
    "kernelspec": {
      "name": "python3",
      "display_name": "Python 3"
    },
    "language_info": {
      "name": "python"
    }
  },
  "cells": [
    {
      "cell_type": "markdown",
      "metadata": {
        "id": "view-in-github",
        "colab_type": "text"
      },
      "source": [
        "<a href=\"https://colab.research.google.com/github/palberth/CienciaDatos-MASDI/blob/main/Laboratorio2_BigData.ipynb\" target=\"_parent\"><img src=\"https://colab.research.google.com/assets/colab-badge.svg\" alt=\"Open In Colab\"/></a>"
      ]
    },
    {
      "cell_type": "markdown",
      "source": [
        "# **Instalación de Librerias**"
      ],
      "metadata": {
        "id": "9M6eAf7ASmnr"
      }
    },
    {
      "cell_type": "code",
      "execution_count": null,
      "metadata": {
        "colab": {
          "base_uri": "https://localhost:8080/"
        },
        "id": "9xZqVX42EMwd",
        "outputId": "d38418ca-bad7-4f68-c933-40bd57cb37b7"
      },
      "outputs": [
        {
          "output_type": "stream",
          "name": "stdout",
          "text": [
            "Requirement already satisfied: google-cloud-bigquery in /usr/local/lib/python3.12/dist-packages (3.37.0)\n",
            "Requirement already satisfied: google-auth in /usr/local/lib/python3.12/dist-packages (2.40.3)\n",
            "Requirement already satisfied: google-auth-oauthlib in /usr/local/lib/python3.12/dist-packages (1.2.2)\n",
            "Requirement already satisfied: google-auth-httplib2 in /usr/local/lib/python3.12/dist-packages (0.2.0)\n",
            "Requirement already satisfied: requests in /usr/local/lib/python3.12/dist-packages (2.32.5)\n",
            "Requirement already satisfied: pandas in /usr/local/lib/python3.12/dist-packages (2.3.2)\n",
            "Requirement already satisfied: google-api-core<3.0.0,>=2.11.1 in /usr/local/lib/python3.12/dist-packages (from google-api-core[grpc]<3.0.0,>=2.11.1->google-cloud-bigquery) (2.25.1)\n",
            "Requirement already satisfied: google-cloud-core<3.0.0,>=2.4.1 in /usr/local/lib/python3.12/dist-packages (from google-cloud-bigquery) (2.4.3)\n",
            "Requirement already satisfied: google-resumable-media<3.0.0,>=2.0.0 in /usr/local/lib/python3.12/dist-packages (from google-cloud-bigquery) (2.7.2)\n",
            "Requirement already satisfied: packaging>=24.2.0 in /usr/local/lib/python3.12/dist-packages (from google-cloud-bigquery) (25.0)\n",
            "Requirement already satisfied: python-dateutil<3.0.0,>=2.8.2 in /usr/local/lib/python3.12/dist-packages (from google-cloud-bigquery) (2.9.0.post0)\n",
            "Requirement already satisfied: cachetools<6.0,>=2.0.0 in /usr/local/lib/python3.12/dist-packages (from google-auth) (5.5.2)\n",
            "Requirement already satisfied: pyasn1-modules>=0.2.1 in /usr/local/lib/python3.12/dist-packages (from google-auth) (0.4.2)\n",
            "Requirement already satisfied: rsa<5,>=3.1.4 in /usr/local/lib/python3.12/dist-packages (from google-auth) (4.9.1)\n",
            "Requirement already satisfied: requests-oauthlib>=0.7.0 in /usr/local/lib/python3.12/dist-packages (from google-auth-oauthlib) (2.0.0)\n",
            "Requirement already satisfied: httplib2>=0.19.0 in /usr/local/lib/python3.12/dist-packages (from google-auth-httplib2) (0.30.0)\n",
            "Requirement already satisfied: charset_normalizer<4,>=2 in /usr/local/lib/python3.12/dist-packages (from requests) (3.4.3)\n",
            "Requirement already satisfied: idna<4,>=2.5 in /usr/local/lib/python3.12/dist-packages (from requests) (3.10)\n",
            "Requirement already satisfied: urllib3<3,>=1.21.1 in /usr/local/lib/python3.12/dist-packages (from requests) (2.5.0)\n",
            "Requirement already satisfied: certifi>=2017.4.17 in /usr/local/lib/python3.12/dist-packages (from requests) (2025.8.3)\n",
            "Requirement already satisfied: numpy>=1.26.0 in /usr/local/lib/python3.12/dist-packages (from pandas) (2.0.2)\n",
            "Requirement already satisfied: pytz>=2020.1 in /usr/local/lib/python3.12/dist-packages (from pandas) (2025.2)\n",
            "Requirement already satisfied: tzdata>=2022.7 in /usr/local/lib/python3.12/dist-packages (from pandas) (2025.2)\n",
            "Requirement already satisfied: googleapis-common-protos<2.0.0,>=1.56.2 in /usr/local/lib/python3.12/dist-packages (from google-api-core<3.0.0,>=2.11.1->google-api-core[grpc]<3.0.0,>=2.11.1->google-cloud-bigquery) (1.70.0)\n",
            "Requirement already satisfied: protobuf!=3.20.0,!=3.20.1,!=4.21.0,!=4.21.1,!=4.21.2,!=4.21.3,!=4.21.4,!=4.21.5,<7.0.0,>=3.19.5 in /usr/local/lib/python3.12/dist-packages (from google-api-core<3.0.0,>=2.11.1->google-api-core[grpc]<3.0.0,>=2.11.1->google-cloud-bigquery) (5.29.5)\n",
            "Requirement already satisfied: proto-plus<2.0.0,>=1.22.3 in /usr/local/lib/python3.12/dist-packages (from google-api-core<3.0.0,>=2.11.1->google-api-core[grpc]<3.0.0,>=2.11.1->google-cloud-bigquery) (1.26.1)\n",
            "Requirement already satisfied: grpcio<2.0.0,>=1.33.2 in /usr/local/lib/python3.12/dist-packages (from google-api-core[grpc]<3.0.0,>=2.11.1->google-cloud-bigquery) (1.74.0)\n",
            "Requirement already satisfied: grpcio-status<2.0.0,>=1.33.2 in /usr/local/lib/python3.12/dist-packages (from google-api-core[grpc]<3.0.0,>=2.11.1->google-cloud-bigquery) (1.71.2)\n",
            "Requirement already satisfied: google-crc32c<2.0dev,>=1.0 in /usr/local/lib/python3.12/dist-packages (from google-resumable-media<3.0.0,>=2.0.0->google-cloud-bigquery) (1.7.1)\n",
            "Requirement already satisfied: pyparsing<4,>=3.0.4 in /usr/local/lib/python3.12/dist-packages (from httplib2>=0.19.0->google-auth-httplib2) (3.2.3)\n",
            "Requirement already satisfied: pyasn1<0.7.0,>=0.6.1 in /usr/local/lib/python3.12/dist-packages (from pyasn1-modules>=0.2.1->google-auth) (0.6.1)\n",
            "Requirement already satisfied: six>=1.5 in /usr/local/lib/python3.12/dist-packages (from python-dateutil<3.0.0,>=2.8.2->google-cloud-bigquery) (1.17.0)\n",
            "Requirement already satisfied: oauthlib>=3.0.0 in /usr/local/lib/python3.12/dist-packages (from requests-oauthlib>=0.7.0->google-auth-oauthlib) (3.3.1)\n"
          ]
        }
      ],
      "source": [
        "!pip install --upgrade google-cloud-bigquery google-auth google-auth-oauthlib google-auth-httplib2 requests pandas"
      ]
    },
    {
      "cell_type": "markdown",
      "source": [
        "# **Autenticación** **colab**"
      ],
      "metadata": {
        "id": "fzTb80GhEWXF"
      }
    },
    {
      "cell_type": "code",
      "source": [
        "from google.colab import auth\n",
        "auth.authenticate_user()\n",
        "print(\"Autenticación exitosa\")"
      ],
      "metadata": {
        "colab": {
          "base_uri": "https://localhost:8080/"
        },
        "id": "22jlYKKfEeCq",
        "outputId": "24ee549f-3572-4c6b-eca9-92d7bf999a02"
      },
      "execution_count": null,
      "outputs": [
        {
          "output_type": "stream",
          "name": "stdout",
          "text": [
            "Autenticación exitosa\n"
          ]
        }
      ]
    },
    {
      "cell_type": "markdown",
      "source": [
        "# **Variables de Entorno y Secretos**"
      ],
      "metadata": {
        "id": "JDgldPStEltQ"
      }
    },
    {
      "cell_type": "code",
      "source": [
        "import os, subprocess\n",
        "\n",
        "PROJECT_ID  = \"bigdata-usta-1\"\n",
        "BUCKET_NAME = \"bucket-alkasoft\"\n",
        "DATASET_ID  = \"crypto_dataset\"\n",
        "TABLE_ID    = \"prices_intraday\"\n",
        "REGION      = \"us-east1\"\n",
        "COINS       = [\"bitcoin\", \"ethereum\", \"cardano\"]\n",
        "VS_CURRENCY = \"usd\"\n",
        "DAYS        = 30\n",
        "\n",
        "api_key = subprocess.check_output([\n",
        "        \"gcloud\",\"secrets\",\"versions\",\"access\",\"latest\",\n",
        "        \"--secret=coingecko_key\", f\"--project={PROJECT_ID}\"\n",
        "        ]).decode().strip()\n",
        "os.environ[\"COINGECKO_API_KEY\"] = api_key\n",
        "print(\"🔐 API key cargada desde Secret Manager\")"
      ],
      "metadata": {
        "colab": {
          "base_uri": "https://localhost:8080/"
        },
        "id": "9agXFkQOEswD",
        "outputId": "3955c23f-bf4e-42c4-d300-65e1ce61065a"
      },
      "execution_count": null,
      "outputs": [
        {
          "output_type": "stream",
          "name": "stdout",
          "text": [
            "🔐 API key cargada desde Secret Manager\n"
          ]
        }
      ]
    },
    {
      "cell_type": "markdown",
      "source": [
        "# **Visualizar contenido de la variable SECRET**\n",
        "\n"
      ],
      "metadata": {
        "id": "LwL792xUJ3tJ"
      }
    },
    {
      "cell_type": "code",
      "source": [
        "print(api_key)"
      ],
      "metadata": {
        "colab": {
          "base_uri": "https://localhost:8080/"
        },
        "id": "0YxVYIAmEool",
        "outputId": "636404a3-5a15-40e3-8c15-c19121351d39"
      },
      "execution_count": null,
      "outputs": [
        {
          "output_type": "stream",
          "name": "stdout",
          "text": [
            "CG-nVrdyYeXuZZVDjDTLbJijDnS\n"
          ]
        }
      ]
    },
    {
      "cell_type": "markdown",
      "source": [
        "# **Conectarse, Descargar de COINGECKO y Generar los Archivos RAW y PROCESSED**"
      ],
      "metadata": {
        "id": "NDGEzQ46JRAN"
      }
    },
    {
      "cell_type": "code",
      "source": [
        "import os, time, requests, pandas as pd\n",
        "from datetime import datetime\n",
        "\n",
        "os.makedirs(\"data/raw\", exist_ok=True)\n",
        "os.makedirs(\"data/processed\", exist_ok=True)\n",
        "\n",
        "today = datetime.utcnow().strftime(\"%Y-%m-%d\")\n",
        "\n",
        "def fetch_market_chart(coin, vs_currency=\"usd\", days=30):\n",
        "    url = f\"https://api.coingecko.com/api/v3/coins/{coin}/market_chart\"\n",
        "    params = {\"vs_currency\": vs_currency, \"days\": days}\n",
        "    headers = {}\n",
        "    r = requests.get(url, params=params, headers=headers, timeout=30)\n",
        "    # Retrys básicos\n",
        "    for i in range(3):\n",
        "        if r.status_code == 200: break\n",
        "        if r.status_code in (429,500,502,503,504):\n",
        "            time.sleep(2*(i+1)); r = requests.get(url, params=params, headers=headers, timeout=30)\n",
        "    r.raise_for_status()\n",
        "    return r\n",
        "\n",
        "generated_csvs = []\n",
        "\n",
        "for coin in COINS:\n",
        "    r = fetch_market_chart(coin, VS_CURRENCY, DAYS)\n",
        "\n",
        "    # RAW\n",
        "    raw_path = f\"data/raw/{coin}_prices_{today}.json\"\n",
        "    with open(raw_path, \"w\") as f:\n",
        "        f.write(r.text)\n",
        "\n",
        "    # Procesado\n",
        "    data = r.json()\n",
        "    prices = data.get(\"prices\", [])  # [ [ts_ms, price], ... ]\n",
        "    if not prices:\n",
        "        print(f\"Sin 'prices' para {coin}\")\n",
        "        continue\n",
        "    df = pd.DataFrame(prices, columns=[\"timestamp_ms\",\"price\"])\n",
        "    df[\"timestamp\"] = pd.to_datetime(df[\"timestamp_ms\"], unit=\"ms\", utc=True)\n",
        "    df[\"date\"] = df[\"timestamp\"].dt.date\n",
        "    df[\"coin\"] = coin\n",
        "    df[\"vs_currency\"] = VS_CURRENCY\n",
        "    df = df[[\"coin\",\"vs_currency\",\"timestamp\",\"date\",\"price\"]].sort_values(\"timestamp\")\n",
        "\n",
        "    csv_path = f\"data/processed/{coin}_prices_{today}.csv\"\n",
        "    df.to_csv(csv_path, index=False)\n",
        "    generated_csvs.append(csv_path)\n",
        "    print(f\"{coin}: {len(df):,} filas → {csv_path}\")\n",
        "\n",
        "generated_csvs[:3]"
      ],
      "metadata": {
        "colab": {
          "base_uri": "https://localhost:8080/"
        },
        "id": "mzdZcAVTISfu",
        "outputId": "297e6915-8d0b-407b-b213-5f57196bb4f7"
      },
      "execution_count": null,
      "outputs": [
        {
          "output_type": "stream",
          "name": "stderr",
          "text": [
            "/tmp/ipython-input-3467654450.py:7: DeprecationWarning: datetime.datetime.utcnow() is deprecated and scheduled for removal in a future version. Use timezone-aware objects to represent datetimes in UTC: datetime.datetime.now(datetime.UTC).\n",
            "  today = datetime.utcnow().strftime(\"%Y-%m-%d\")\n"
          ]
        },
        {
          "output_type": "stream",
          "name": "stdout",
          "text": [
            "bitcoin: 719 filas → data/processed/bitcoin_prices_2025-09-16.csv\n",
            "ethereum: 719 filas → data/processed/ethereum_prices_2025-09-16.csv\n",
            "cardano: 719 filas → data/processed/cardano_prices_2025-09-16.csv\n"
          ]
        },
        {
          "output_type": "execute_result",
          "data": {
            "text/plain": [
              "['data/processed/bitcoin_prices_2025-09-16.csv',\n",
              " 'data/processed/ethereum_prices_2025-09-16.csv',\n",
              " 'data/processed/cardano_prices_2025-09-16.csv']"
            ]
          },
          "metadata": {},
          "execution_count": 5
        }
      ]
    },
    {
      "cell_type": "markdown",
      "source": [
        "# **Subir a GCS**"
      ],
      "metadata": {
        "id": "O8C9jDCuMPp-"
      }
    },
    {
      "cell_type": "code",
      "source": [
        "!gcloud config set project {PROJECT_ID}\n",
        "\n",
        "!gsutil -m cp data/raw/*.json gs://{BUCKET_NAME}/S2/raw/\n",
        "!gsutil -m cp data/processed/*.csv gs://{BUCKET_NAME}/S2/processed/"
      ],
      "metadata": {
        "colab": {
          "base_uri": "https://localhost:8080/"
        },
        "id": "B6vgGUQSMGUt",
        "outputId": "2e994595-a056-4626-a3b8-87634617cbd0"
      },
      "execution_count": null,
      "outputs": [
        {
          "output_type": "stream",
          "name": "stdout",
          "text": [
            "Updated property [core/project].\n",
            "Copying file://data/raw/bitcoin_prices_2025-09-16.json [Content-Type=application/json]...\n",
            "Copying file://data/raw/ethereum_prices_2025-09-16.json [Content-Type=application/json]...\n",
            "Copying file://data/raw/cardano_prices_2025-09-16.json [Content-Type=application/json]...\n",
            "/\n",
            "Operation completed over 3 objects/218.0 KiB.                                    \n",
            "Copying file://data/processed/bitcoin_prices_2025-09-16.csv [Content-Type=text/csv]...\n",
            "Copying file://data/processed/cardano_prices_2025-09-16.csv [Content-Type=text/csv]...\n",
            "Copying file://data/processed/ethereum_prices_2025-09-16.csv [Content-Type=text/csv]...\n",
            "/\n",
            "Operation completed over 3 objects/157.8 KiB.                                    \n"
          ]
        }
      ]
    },
    {
      "cell_type": "markdown",
      "source": [
        "# **(Pruebas) Usando Python**"
      ],
      "metadata": {
        "id": "Pj5kIL8pPCQ9"
      }
    },
    {
      "cell_type": "code",
      "source": [
        "from google.cloud import storage\n",
        "\n",
        "client = storage.Client()\n",
        "bucket = client.bucket(BUCKET_NAME)\n",
        "\n",
        "for file in os.listdir(\"data/processed\"):\n",
        "    blob = bucket.blob(f\"S2/processed/copy-{file}\")\n",
        "    blob.upload_from_filename(f\"data/processed/{file}\")\n",
        "    print(f\"Subido: {file}\")"
      ],
      "metadata": {
        "colab": {
          "base_uri": "https://localhost:8080/"
        },
        "id": "XMJTnVkRPJWf",
        "outputId": "54bf26b3-e996-4ebf-fc58-70dc06146910"
      },
      "execution_count": null,
      "outputs": [
        {
          "output_type": "stream",
          "name": "stdout",
          "text": [
            "Subido: cardano_prices_2025-09-16.csv\n",
            "Subido: ethereum_prices_2025-09-16.csv\n",
            "Subido: bitcoin_prices_2025-09-16.csv\n"
          ]
        }
      ]
    },
    {
      "cell_type": "markdown",
      "source": [
        "# **Crear Dataset y tabla en BigQuery y cargar Data desde GCS**"
      ],
      "metadata": {
        "id": "6oyISrxrQF-D"
      }
    },
    {
      "cell_type": "code",
      "source": [
        "from google.cloud import bigquery\n",
        "\n",
        "bq = bigquery.Client(project=PROJECT_ID)\n",
        "\n",
        "dataset_ref = bigquery.Dataset(f\"{PROJECT_ID}.{DATASET_ID}\")\n",
        "dataset_ref.location = REGION\n",
        "try:\n",
        "    bq.get_dataset(dataset_ref)\n",
        "    print(f\"Dataset existente: {PROJECT_ID}.{DATASET_ID}\")\n",
        "except Exception:\n",
        "    bq.create_dataset(dataset_ref, exists_ok=True)\n",
        "    print(f\"Dataset creado: {PROJECT_ID}.{DATASET_ID}\")\n",
        "\n",
        "\n",
        "table_id = f\"{PROJECT_ID}.{DATASET_ID}.{TABLE_ID}\"\n",
        "\n",
        "job_config = bigquery.LoadJobConfig(\n",
        "    autodetect=True,\n",
        "    skip_leading_rows=1,\n",
        "    source_format=bigquery.SourceFormat.CSV,\n",
        "    write_disposition=bigquery.WriteDisposition.WRITE_APPEND,\n",
        ")\n",
        "\n",
        "\n",
        "uris = [f\"gs://{BUCKET_NAME}/S2/processed/{os.path.basename(p)}\" for p in generated_csvs]\n",
        "print(\"Cargando URIs:\", uris[:3], \"…\")\n",
        "\n",
        "load_job = bq.load_table_from_uri(uris, table_id, job_config=job_config)\n",
        "load_job.result()\n",
        "\n",
        "table = bq.get_table(table_id)\n",
        "print(f\"Tabla lista: {table_id} → {table.num_rows:,} filas\")"
      ],
      "metadata": {
        "colab": {
          "base_uri": "https://localhost:8080/"
        },
        "id": "FfLz6JpdPQsS",
        "outputId": "978d24a6-5b90-4d50-e3d7-0eebe6803d02"
      },
      "execution_count": null,
      "outputs": [
        {
          "output_type": "stream",
          "name": "stdout",
          "text": [
            "Dataset creado: bigdata-usta-1.crypto_dataset\n",
            "Cargando URIs: ['gs://bucket-alkasoft/S2/processed/bitcoin_prices_2025-09-16.csv', 'gs://bucket-alkasoft/S2/processed/ethereum_prices_2025-09-16.csv', 'gs://bucket-alkasoft/S2/processed/cardano_prices_2025-09-16.csv'] …\n",
            "Tabla lista: bigdata-usta-1.crypto_dataset.prices_intraday → 2,157 filas\n"
          ]
        }
      ]
    },
    {
      "cell_type": "markdown",
      "source": [
        "# **Query Simple**"
      ],
      "metadata": {
        "id": "A7ded22zTJGp"
      }
    },
    {
      "cell_type": "code",
      "source": [
        "query_change = f\"\"\"\n",
        "SELECT\n",
        "    coin,\n",
        "    date,\n",
        "    AVG(price) AS avg_price\n",
        "  FROM `{PROJECT_ID}.{DATASET_ID}.{TABLE_ID}`\n",
        "  GROUP BY coin, date\n",
        "  order by coin, date\n",
        "\"\"\"\n",
        "df_change = bq.query(query_change).to_dataframe()\n",
        "df_change.head()"
      ],
      "metadata": {
        "colab": {
          "base_uri": "https://localhost:8080/",
          "height": 206
        },
        "id": "1F54otdcRu4U",
        "outputId": "6d0fdfb1-5d5d-416b-b6da-b6cf98fe6f68"
      },
      "execution_count": null,
      "outputs": [
        {
          "output_type": "execute_result",
          "data": {
            "text/plain": [
              "      coin        date      avg_price\n",
              "0  bitcoin  2025-08-17  118042.878844\n",
              "1  bitcoin  2025-08-18  115939.564255\n",
              "2  bitcoin  2025-08-19  114708.777081\n",
              "3  bitcoin  2025-08-20  113685.017487\n",
              "4  bitcoin  2025-08-21  113320.049738"
            ],
            "text/html": [
              "\n",
              "  <div id=\"df-35017913-272f-4118-a9ca-99538c120ce3\" class=\"colab-df-container\">\n",
              "    <div>\n",
              "<style scoped>\n",
              "    .dataframe tbody tr th:only-of-type {\n",
              "        vertical-align: middle;\n",
              "    }\n",
              "\n",
              "    .dataframe tbody tr th {\n",
              "        vertical-align: top;\n",
              "    }\n",
              "\n",
              "    .dataframe thead th {\n",
              "        text-align: right;\n",
              "    }\n",
              "</style>\n",
              "<table border=\"1\" class=\"dataframe\">\n",
              "  <thead>\n",
              "    <tr style=\"text-align: right;\">\n",
              "      <th></th>\n",
              "      <th>coin</th>\n",
              "      <th>date</th>\n",
              "      <th>avg_price</th>\n",
              "    </tr>\n",
              "  </thead>\n",
              "  <tbody>\n",
              "    <tr>\n",
              "      <th>0</th>\n",
              "      <td>bitcoin</td>\n",
              "      <td>2025-08-17</td>\n",
              "      <td>118042.878844</td>\n",
              "    </tr>\n",
              "    <tr>\n",
              "      <th>1</th>\n",
              "      <td>bitcoin</td>\n",
              "      <td>2025-08-18</td>\n",
              "      <td>115939.564255</td>\n",
              "    </tr>\n",
              "    <tr>\n",
              "      <th>2</th>\n",
              "      <td>bitcoin</td>\n",
              "      <td>2025-08-19</td>\n",
              "      <td>114708.777081</td>\n",
              "    </tr>\n",
              "    <tr>\n",
              "      <th>3</th>\n",
              "      <td>bitcoin</td>\n",
              "      <td>2025-08-20</td>\n",
              "      <td>113685.017487</td>\n",
              "    </tr>\n",
              "    <tr>\n",
              "      <th>4</th>\n",
              "      <td>bitcoin</td>\n",
              "      <td>2025-08-21</td>\n",
              "      <td>113320.049738</td>\n",
              "    </tr>\n",
              "  </tbody>\n",
              "</table>\n",
              "</div>\n",
              "    <div class=\"colab-df-buttons\">\n",
              "\n",
              "  <div class=\"colab-df-container\">\n",
              "    <button class=\"colab-df-convert\" onclick=\"convertToInteractive('df-35017913-272f-4118-a9ca-99538c120ce3')\"\n",
              "            title=\"Convert this dataframe to an interactive table.\"\n",
              "            style=\"display:none;\">\n",
              "\n",
              "  <svg xmlns=\"http://www.w3.org/2000/svg\" height=\"24px\" viewBox=\"0 -960 960 960\">\n",
              "    <path d=\"M120-120v-720h720v720H120Zm60-500h600v-160H180v160Zm220 220h160v-160H400v160Zm0 220h160v-160H400v160ZM180-400h160v-160H180v160Zm440 0h160v-160H620v160ZM180-180h160v-160H180v160Zm440 0h160v-160H620v160Z\"/>\n",
              "  </svg>\n",
              "    </button>\n",
              "\n",
              "  <style>\n",
              "    .colab-df-container {\n",
              "      display:flex;\n",
              "      gap: 12px;\n",
              "    }\n",
              "\n",
              "    .colab-df-convert {\n",
              "      background-color: #E8F0FE;\n",
              "      border: none;\n",
              "      border-radius: 50%;\n",
              "      cursor: pointer;\n",
              "      display: none;\n",
              "      fill: #1967D2;\n",
              "      height: 32px;\n",
              "      padding: 0 0 0 0;\n",
              "      width: 32px;\n",
              "    }\n",
              "\n",
              "    .colab-df-convert:hover {\n",
              "      background-color: #E2EBFA;\n",
              "      box-shadow: 0px 1px 2px rgba(60, 64, 67, 0.3), 0px 1px 3px 1px rgba(60, 64, 67, 0.15);\n",
              "      fill: #174EA6;\n",
              "    }\n",
              "\n",
              "    .colab-df-buttons div {\n",
              "      margin-bottom: 4px;\n",
              "    }\n",
              "\n",
              "    [theme=dark] .colab-df-convert {\n",
              "      background-color: #3B4455;\n",
              "      fill: #D2E3FC;\n",
              "    }\n",
              "\n",
              "    [theme=dark] .colab-df-convert:hover {\n",
              "      background-color: #434B5C;\n",
              "      box-shadow: 0px 1px 3px 1px rgba(0, 0, 0, 0.15);\n",
              "      filter: drop-shadow(0px 1px 2px rgba(0, 0, 0, 0.3));\n",
              "      fill: #FFFFFF;\n",
              "    }\n",
              "  </style>\n",
              "\n",
              "    <script>\n",
              "      const buttonEl =\n",
              "        document.querySelector('#df-35017913-272f-4118-a9ca-99538c120ce3 button.colab-df-convert');\n",
              "      buttonEl.style.display =\n",
              "        google.colab.kernel.accessAllowed ? 'block' : 'none';\n",
              "\n",
              "      async function convertToInteractive(key) {\n",
              "        const element = document.querySelector('#df-35017913-272f-4118-a9ca-99538c120ce3');\n",
              "        const dataTable =\n",
              "          await google.colab.kernel.invokeFunction('convertToInteractive',\n",
              "                                                    [key], {});\n",
              "        if (!dataTable) return;\n",
              "\n",
              "        const docLinkHtml = 'Like what you see? Visit the ' +\n",
              "          '<a target=\"_blank\" href=https://colab.research.google.com/notebooks/data_table.ipynb>data table notebook</a>'\n",
              "          + ' to learn more about interactive tables.';\n",
              "        element.innerHTML = '';\n",
              "        dataTable['output_type'] = 'display_data';\n",
              "        await google.colab.output.renderOutput(dataTable, element);\n",
              "        const docLink = document.createElement('div');\n",
              "        docLink.innerHTML = docLinkHtml;\n",
              "        element.appendChild(docLink);\n",
              "      }\n",
              "    </script>\n",
              "  </div>\n",
              "\n",
              "\n",
              "    <div id=\"df-667d7bef-d9c3-484f-893e-25960bf0f98c\">\n",
              "      <button class=\"colab-df-quickchart\" onclick=\"quickchart('df-667d7bef-d9c3-484f-893e-25960bf0f98c')\"\n",
              "                title=\"Suggest charts\"\n",
              "                style=\"display:none;\">\n",
              "\n",
              "<svg xmlns=\"http://www.w3.org/2000/svg\" height=\"24px\"viewBox=\"0 0 24 24\"\n",
              "     width=\"24px\">\n",
              "    <g>\n",
              "        <path d=\"M19 3H5c-1.1 0-2 .9-2 2v14c0 1.1.9 2 2 2h14c1.1 0 2-.9 2-2V5c0-1.1-.9-2-2-2zM9 17H7v-7h2v7zm4 0h-2V7h2v10zm4 0h-2v-4h2v4z\"/>\n",
              "    </g>\n",
              "</svg>\n",
              "      </button>\n",
              "\n",
              "<style>\n",
              "  .colab-df-quickchart {\n",
              "      --bg-color: #E8F0FE;\n",
              "      --fill-color: #1967D2;\n",
              "      --hover-bg-color: #E2EBFA;\n",
              "      --hover-fill-color: #174EA6;\n",
              "      --disabled-fill-color: #AAA;\n",
              "      --disabled-bg-color: #DDD;\n",
              "  }\n",
              "\n",
              "  [theme=dark] .colab-df-quickchart {\n",
              "      --bg-color: #3B4455;\n",
              "      --fill-color: #D2E3FC;\n",
              "      --hover-bg-color: #434B5C;\n",
              "      --hover-fill-color: #FFFFFF;\n",
              "      --disabled-bg-color: #3B4455;\n",
              "      --disabled-fill-color: #666;\n",
              "  }\n",
              "\n",
              "  .colab-df-quickchart {\n",
              "    background-color: var(--bg-color);\n",
              "    border: none;\n",
              "    border-radius: 50%;\n",
              "    cursor: pointer;\n",
              "    display: none;\n",
              "    fill: var(--fill-color);\n",
              "    height: 32px;\n",
              "    padding: 0;\n",
              "    width: 32px;\n",
              "  }\n",
              "\n",
              "  .colab-df-quickchart:hover {\n",
              "    background-color: var(--hover-bg-color);\n",
              "    box-shadow: 0 1px 2px rgba(60, 64, 67, 0.3), 0 1px 3px 1px rgba(60, 64, 67, 0.15);\n",
              "    fill: var(--button-hover-fill-color);\n",
              "  }\n",
              "\n",
              "  .colab-df-quickchart-complete:disabled,\n",
              "  .colab-df-quickchart-complete:disabled:hover {\n",
              "    background-color: var(--disabled-bg-color);\n",
              "    fill: var(--disabled-fill-color);\n",
              "    box-shadow: none;\n",
              "  }\n",
              "\n",
              "  .colab-df-spinner {\n",
              "    border: 2px solid var(--fill-color);\n",
              "    border-color: transparent;\n",
              "    border-bottom-color: var(--fill-color);\n",
              "    animation:\n",
              "      spin 1s steps(1) infinite;\n",
              "  }\n",
              "\n",
              "  @keyframes spin {\n",
              "    0% {\n",
              "      border-color: transparent;\n",
              "      border-bottom-color: var(--fill-color);\n",
              "      border-left-color: var(--fill-color);\n",
              "    }\n",
              "    20% {\n",
              "      border-color: transparent;\n",
              "      border-left-color: var(--fill-color);\n",
              "      border-top-color: var(--fill-color);\n",
              "    }\n",
              "    30% {\n",
              "      border-color: transparent;\n",
              "      border-left-color: var(--fill-color);\n",
              "      border-top-color: var(--fill-color);\n",
              "      border-right-color: var(--fill-color);\n",
              "    }\n",
              "    40% {\n",
              "      border-color: transparent;\n",
              "      border-right-color: var(--fill-color);\n",
              "      border-top-color: var(--fill-color);\n",
              "    }\n",
              "    60% {\n",
              "      border-color: transparent;\n",
              "      border-right-color: var(--fill-color);\n",
              "    }\n",
              "    80% {\n",
              "      border-color: transparent;\n",
              "      border-right-color: var(--fill-color);\n",
              "      border-bottom-color: var(--fill-color);\n",
              "    }\n",
              "    90% {\n",
              "      border-color: transparent;\n",
              "      border-bottom-color: var(--fill-color);\n",
              "    }\n",
              "  }\n",
              "</style>\n",
              "\n",
              "      <script>\n",
              "        async function quickchart(key) {\n",
              "          const quickchartButtonEl =\n",
              "            document.querySelector('#' + key + ' button');\n",
              "          quickchartButtonEl.disabled = true;  // To prevent multiple clicks.\n",
              "          quickchartButtonEl.classList.add('colab-df-spinner');\n",
              "          try {\n",
              "            const charts = await google.colab.kernel.invokeFunction(\n",
              "                'suggestCharts', [key], {});\n",
              "          } catch (error) {\n",
              "            console.error('Error during call to suggestCharts:', error);\n",
              "          }\n",
              "          quickchartButtonEl.classList.remove('colab-df-spinner');\n",
              "          quickchartButtonEl.classList.add('colab-df-quickchart-complete');\n",
              "        }\n",
              "        (() => {\n",
              "          let quickchartButtonEl =\n",
              "            document.querySelector('#df-667d7bef-d9c3-484f-893e-25960bf0f98c button');\n",
              "          quickchartButtonEl.style.display =\n",
              "            google.colab.kernel.accessAllowed ? 'block' : 'none';\n",
              "        })();\n",
              "      </script>\n",
              "    </div>\n",
              "\n",
              "    </div>\n",
              "  </div>\n"
            ],
            "application/vnd.google.colaboratory.intrinsic+json": {
              "type": "dataframe",
              "variable_name": "df_change",
              "summary": "{\n  \"name\": \"df_change\",\n  \"rows\": 93,\n  \"fields\": [\n    {\n      \"column\": \"coin\",\n      \"properties\": {\n        \"dtype\": \"category\",\n        \"num_unique_values\": 3,\n        \"samples\": [\n          \"bitcoin\",\n          \"cardano\",\n          \"ethereum\"\n        ],\n        \"semantic_type\": \"\",\n        \"description\": \"\"\n      }\n    },\n    {\n      \"column\": \"date\",\n      \"properties\": {\n        \"dtype\": \"dbdate\",\n        \"num_unique_values\": 31,\n        \"samples\": [\n          \"2025-09-13\",\n          \"2025-09-01\",\n          \"2025-09-09\"\n        ],\n        \"semantic_type\": \"\",\n        \"description\": \"\"\n      }\n    },\n    {\n      \"column\": \"avg_price\",\n      \"properties\": {\n        \"dtype\": \"number\",\n        \"std\": 52448.76718938204,\n        \"min\": 0.8108863116391982,\n        \"max\": 118042.87884382025,\n        \"num_unique_values\": 93,\n        \"samples\": [\n          0.8483652786326452,\n          111783.09180015163,\n          0.8789616379759284\n        ],\n        \"semantic_type\": \"\",\n        \"description\": \"\"\n      }\n    }\n  ]\n}"
            }
          },
          "metadata": {},
          "execution_count": 11
        }
      ]
    },
    {
      "cell_type": "code",
      "source": [
        "df.shape"
      ],
      "metadata": {
        "colab": {
          "base_uri": "https://localhost:8080/"
        },
        "id": "m5IMeaaJSOqT",
        "outputId": "c129221a-9f03-4e60-cccf-c4459b9cfa57"
      },
      "execution_count": null,
      "outputs": [
        {
          "output_type": "execute_result",
          "data": {
            "text/plain": [
              "(719, 5)"
            ]
          },
          "metadata": {},
          "execution_count": 12
        }
      ]
    },
    {
      "cell_type": "markdown",
      "source": [
        "# **Grafica del comportamiento de las Monedas**"
      ],
      "metadata": {
        "id": "bbBRdpSTSdBs"
      }
    },
    {
      "cell_type": "code",
      "source": [
        "import matplotlib.pyplot as plt\n",
        "\n",
        "query_change = f\"\"\"\n",
        "WITH daily AS (\n",
        "  SELECT\n",
        "    coin,\n",
        "    date,\n",
        "    AVG(price) AS avg_price\n",
        "  FROM `{PROJECT_ID}.{DATASET_ID}.{TABLE_ID}`\n",
        "  GROUP BY coin, date\n",
        ")\n",
        "SELECT\n",
        "  coin,\n",
        "  date,\n",
        "  avg_price,\n",
        "  100.0 * (avg_price - LAG(avg_price) OVER(PARTITION BY coin ORDER BY date))\n",
        "        / LAG(avg_price) OVER(PARTITION BY coin ORDER BY date) AS pct_change\n",
        "FROM daily\n",
        "ORDER BY coin, date\n",
        "\"\"\"\n",
        "df_change = bq.query(query_change).to_dataframe()\n",
        "df_change.head()\n",
        "\n",
        "# Top 2 monedas por variación absoluta entre días\n",
        "subset = df_change.dropna().copy()\n",
        "subset[\"abs_change\"] = subset[\"pct_change\"].abs()\n",
        "top = subset.sort_values(\"abs_change\", ascending=False).groupby(\"coin\").head(1)\n",
        "\n",
        "plt.figure(figsize=(8,4))\n",
        "for coin in COINS:\n",
        "    s = subset[subset[\"coin\"] == coin]\n",
        "    plt.plot(s[\"date\"], s[\"pct_change\"], label=coin)\n",
        "plt.title(\"Variación porcentual diaria\")\n",
        "plt.xlabel(\"Fecha\"); plt.ylabel(\"% cambio diario\")\n",
        "plt.legend(); plt.tight_layout(); plt.show()"
      ],
      "metadata": {
        "colab": {
          "base_uri": "https://localhost:8080/",
          "height": 407
        },
        "id": "4Jr0UNa4RR2a",
        "outputId": "a8726372-cdf0-4ca6-aa60-e00e69ca8201"
      },
      "execution_count": null,
      "outputs": [
        {
          "output_type": "display_data",
          "data": {
            "text/plain": [
              "<Figure size 800x400 with 1 Axes>"
            ],
            "image/png": "[encoded data removed]"
          },
          "metadata": {}
        }
      ]
    },
    {
      "cell_type": "code",
      "source": [
        "import pandas as pd\n",
        "\n",
        "df = pd.read_csv(\"data/processed/bitcoin_prices_2025-09-16.csv\")\n",
        "\n",
        "parquet_path = \"data/processed/bitcoin_prices_2025-09-16.parquet\"\n",
        "\n",
        "df.to_parquet(parquet_path, engine=\"pyarrow\", index=False)\n",
        "\n",
        "print(f\"Archivo guardado en Parquet: {parquet_path}\")"
      ],
      "metadata": {
        "colab": {
          "base_uri": "https://localhost:8080/"
        },
        "id": "FQ_-NvNETb_t",
        "outputId": "6a14901f-cb7f-433c-9745-fbdbc4c15c6d"
      },
      "execution_count": null,
      "outputs": [
        {
          "output_type": "stream",
          "name": "stdout",
          "text": [
            "Archivo guardado en Parquet: data/processed/bitcoin_prices_2025-09-16.parquet\n"
          ]
        }
      ]
    },
    {
      "cell_type": "code",
      "source": [
        "import os\n",
        "\n",
        "csv_size = os.path.getsize(\"data/processed/bitcoin_prices_2025-09-16.csv\")/1024\n",
        "pq_size  = os.path.getsize(\"data/processed/bitcoin_prices_2025-09-16.parquet\")/1024\n",
        "\n",
        "print(f\"Tamaño CSV: {csv_size:.2f} KB\")\n",
        "print(f\"Tamaño Parquet: {pq_size:.2f} KB\")"
      ],
      "metadata": {
        "colab": {
          "base_uri": "https://localhost:8080/"
        },
        "id": "WU8Yj529TcqG",
        "outputId": "ed2f0d30-fdf6-4112-b867-d6d6c118bd59"
      },
      "execution_count": null,
      "outputs": [
        {
          "output_type": "stream",
          "name": "stdout",
          "text": [
            "Tamaño CSV: 52.57 KB\n",
            "Tamaño Parquet: 18.98 KB\n"
          ]
        }
      ]
    }
  ]
}